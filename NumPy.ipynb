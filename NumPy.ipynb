{
  "nbformat": 4,
  "nbformat_minor": 0,
  "metadata": {
    "colab": {
      "name": "NumPy.ipynb",
      "provenance": [],
      "collapsed_sections": [],
      "authorship_tag": "ABX9TyORyXzlIMwzrYzJGRckaafe",
      "include_colab_link": true
    },
    "kernelspec": {
      "name": "python3",
      "display_name": "Python 3"
    },
    "language_info": {
      "name": "python"
    }
  },
  "cells": [
    {
      "cell_type": "markdown",
      "metadata": {
        "id": "view-in-github",
        "colab_type": "text"
      },
      "source": [
        "<a href=\"https://colab.research.google.com/github/aayussraut/Exploring_NumPy/blob/main/NumPy.ipynb\" target=\"_parent\"><img src=\"https://colab.research.google.com/assets/colab-badge.svg\" alt=\"Open In Colab\"/></a>"
      ]
    },
    {
      "cell_type": "code",
      "metadata": {
        "id": "6gSBlHIiW5B5"
      },
      "source": [
        "import numpy as np\n"
      ],
      "execution_count": null,
      "outputs": []
    },
    {
      "cell_type": "code",
      "metadata": {
        "colab": {
          "base_uri": "https://localhost:8080/"
        },
        "id": "u9OASeQ5XCje",
        "outputId": "20a912af-1ae5-4807-915b-64bf0dff904e"
      },
      "source": [
        "x=np.array([[1,2,3],[4,5,6,6]])\n",
        "print(\"x:\\n{}\".format(x))"
      ],
      "execution_count": null,
      "outputs": [
        {
          "output_type": "stream",
          "text": [
            "x:\n",
            "[list([1, 2, 3]) list([4, 5, 6, 6])]\n"
          ],
          "name": "stdout"
        },
        {
          "output_type": "stream",
          "text": [
            "/usr/local/lib/python3.7/dist-packages/ipykernel_launcher.py:1: VisibleDeprecationWarning: Creating an ndarray from ragged nested sequences (which is a list-or-tuple of lists-or-tuples-or ndarrays with different lengths or shapes) is deprecated. If you meant to do this, you must specify 'dtype=object' when creating the ndarray\n",
            "  \"\"\"Entry point for launching an IPython kernel.\n"
          ],
          "name": "stderr"
        }
      ]
    },
    {
      "cell_type": "markdown",
      "metadata": {
        "id": "EOZXZpItUYY4"
      },
      "source": [
        "## **NumPy**\n",
        "- extension package to Python for multi-diensional arrays\n",
        "- closer to hardware\n",
        "- designed for scinetific computation\n",
        "- aslo known as array oriented computing.\n"
      ]
    },
    {
      "cell_type": "markdown",
      "metadata": {
        "id": "1QxgORVkJ_DF"
      },
      "source": [
        "#### **array**\n",
        "- is central data structure of the Numpy library.\n",
        "- the elements in array are of same type"
      ]
    },
    {
      "cell_type": "code",
      "metadata": {
        "id": "3dO1ylmQXGoo"
      },
      "source": [
        "import numpy as np"
      ],
      "execution_count": null,
      "outputs": []
    },
    {
      "cell_type": "code",
      "metadata": {
        "id": "awygQr82KVEL"
      },
      "source": [
        "#example\n",
        "a=np.array([1,2,3,4,5])  # of int type\n",
        "a=np.array([[1,2,3,4],[4,5,6,7]])  #list type"
      ],
      "execution_count": null,
      "outputs": []
    },
    {
      "cell_type": "code",
      "metadata": {
        "colab": {
          "base_uri": "https://localhost:8080/"
        },
        "id": "1QVALumqKphP",
        "outputId": "4f60dc0f-a21a-4461-d62d-b55e22e6a93c"
      },
      "source": [
        "#accessing elements\n",
        "\n",
        "print(a[0])"
      ],
      "execution_count": null,
      "outputs": [
        {
          "output_type": "stream",
          "text": [
            "[1 2 3 4]\n"
          ],
          "name": "stdout"
        }
      ]
    },
    {
      "cell_type": "markdown",
      "metadata": {
        "id": "z4CW2zeCLhh6"
      },
      "source": [
        "##### Attributes of an array\n",
        "\n",
        "- the no of dimensions and items in an array is defined by iys shape\n",
        "- the shape of an array is a tuple of nonnegative intergers that specufy the sized of each dimension.\n",
        "\n",
        "- suppose we have a 2D array that looks like:\n",
        "\n",
        "[[0., 0., 0.],\n",
        "\n",
        " [1., 1., 1.]]\n",
        "\n",
        "- It means our array has 2 axes. THe first axis has a length of 2 and second axis has a length of 3.\n",
        "\n"
      ]
    },
    {
      "cell_type": "markdown",
      "metadata": {
        "id": "xLZOO-afN5V5"
      },
      "source": [
        "#### **Creating a Basic Array**\n",
        "\n",
        "-np.array(), np.zeros(), np.ones(), np.empty(), np.arange(), np.linspace(), dtype"
      ]
    },
    {
      "cell_type": "code",
      "metadata": {
        "id": "ir0hwsu9OH9C"
      },
      "source": [
        "import numpy as np"
      ],
      "execution_count": null,
      "outputs": []
    },
    {
      "cell_type": "code",
      "metadata": {
        "colab": {
          "base_uri": "https://localhost:8080/"
        },
        "id": "T8mZOm5CNwVg",
        "outputId": "ddfc6e82-84c2-4ba2-e2bd-c5711c61b989"
      },
      "source": [
        "#np.array()\n",
        "# To create a Numpy array\n",
        "a=np.array([1,2,3])\n",
        "a"
      ],
      "execution_count": null,
      "outputs": [
        {
          "output_type": "execute_result",
          "data": {
            "text/plain": [
              "array([1, 2, 3])"
            ]
          },
          "metadata": {
            "tags": []
          },
          "execution_count": 9
        }
      ]
    },
    {
      "cell_type": "code",
      "metadata": {
        "id": "V2H7cFGiOUjb",
        "colab": {
          "base_uri": "https://localhost:8080/"
        },
        "outputId": "1174ec68-11ea-4927-8c1b-1a1d08de9d1a"
      },
      "source": [
        "#np.zeros()\n",
        "# to create an array filled with 0's\n",
        "np.zeros(2)"
      ],
      "execution_count": null,
      "outputs": [
        {
          "output_type": "execute_result",
          "data": {
            "text/plain": [
              "array([0., 0.])"
            ]
          },
          "metadata": {
            "tags": []
          },
          "execution_count": 10
        }
      ]
    },
    {
      "cell_type": "code",
      "metadata": {
        "id": "1D050FQKOf9V",
        "colab": {
          "base_uri": "https://localhost:8080/"
        },
        "outputId": "76915f4b-eefe-47e7-bbde-a1d33faeba95"
      },
      "source": [
        "#np.ones()\n",
        "# to cerate an array filled with 1's\n",
        "np.ones(1)"
      ],
      "execution_count": null,
      "outputs": [
        {
          "output_type": "execute_result",
          "data": {
            "text/plain": [
              "array([1.])"
            ]
          },
          "metadata": {
            "tags": []
          },
          "execution_count": 11
        }
      ]
    },
    {
      "cell_type": "code",
      "metadata": {
        "id": "VGe2kkbBPCwZ",
        "colab": {
          "base_uri": "https://localhost:8080/"
        },
        "outputId": "ffed89e3-4917-4bb9-8440-2263168d354c"
      },
      "source": [
        "#np.zeros\n",
        "\n",
        "# creates an array whose initial content is random and depends on the state of the memory\n",
        "# the reasons ti use empty over zeros is speed\n",
        "\n",
        "np.empty(2)"
      ],
      "execution_count": null,
      "outputs": [
        {
          "output_type": "execute_result",
          "data": {
            "text/plain": [
              "array([0., 0.])"
            ]
          },
          "metadata": {
            "tags": []
          },
          "execution_count": 12
        }
      ]
    },
    {
      "cell_type": "code",
      "metadata": {
        "id": "JOgfcPlUPXiZ",
        "colab": {
          "base_uri": "https://localhost:8080/"
        },
        "outputId": "d33bf025-6219-474a-b362-edecde13487c"
      },
      "source": [
        "#np.arange()\n",
        "\n",
        "# to create an array with a range of elements\n",
        "\n",
        "np.arange(4)\n"
      ],
      "execution_count": null,
      "outputs": [
        {
          "output_type": "execute_result",
          "data": {
            "text/plain": [
              "array([0, 1, 2, 3])"
            ]
          },
          "metadata": {
            "tags": []
          },
          "execution_count": 13
        }
      ]
    },
    {
      "cell_type": "code",
      "metadata": {
        "id": "j2lW8Fl_PmAI",
        "colab": {
          "base_uri": "https://localhost:8080/"
        },
        "outputId": "f23121e2-08b6-4a04-91c6-0911318cd866"
      },
      "source": [
        "# to create an array that contains a range of evenly spaced intervals.\n",
        "\n",
        "np.arange(2,9,2)\n"
      ],
      "execution_count": null,
      "outputs": [
        {
          "output_type": "execute_result",
          "data": {
            "text/plain": [
              "array([2, 4, 6, 8])"
            ]
          },
          "metadata": {
            "tags": []
          },
          "execution_count": 14
        }
      ]
    },
    {
      "cell_type": "code",
      "metadata": {
        "id": "HHSX-0hQPyOB"
      },
      "source": [
        "#np.linspace()\n",
        "\n",
        "# to create an array with values that are spaced linearly in specified interval\n",
        "\n",
        "np.linspace(0,10,num=5)\n",
        "\n",
        "# num= 5 means .. 5 no. between 0 and 10"
      ],
      "execution_count": null,
      "outputs": []
    },
    {
      "cell_type": "code",
      "metadata": {
        "id": "9BKYGWf6QFyZ",
        "colab": {
          "base_uri": "https://localhost:8080/"
        },
        "outputId": "7a63a14a-7177-4da7-a659-756c7a3a7296"
      },
      "source": [
        "np.linspace(0,10,num=5 ,endpoint=False)\n",
        "# returns 5 no between 0 and 10 where 10 is excluded."
      ],
      "execution_count": null,
      "outputs": [
        {
          "output_type": "execute_result",
          "data": {
            "text/plain": [
              "array([0., 2., 4., 6., 8.])"
            ]
          },
          "metadata": {
            "tags": []
          },
          "execution_count": 15
        }
      ]
    },
    {
      "cell_type": "code",
      "metadata": {
        "colab": {
          "base_uri": "https://localhost:8080/"
        },
        "id": "nOIn_DSdQ3c_",
        "outputId": "bb8508a5-35d7-4a1f-90d5-51c52c4ef0c1"
      },
      "source": [
        "#dtype\n",
        "\n",
        "#specifying data type\n",
        "\n",
        "np.ones(2,dtype=np.int64)"
      ],
      "execution_count": null,
      "outputs": [
        {
          "output_type": "execute_result",
          "data": {
            "text/plain": [
              "array([1, 1])"
            ]
          },
          "metadata": {
            "tags": []
          },
          "execution_count": 16
        }
      ]
    },
    {
      "cell_type": "code",
      "metadata": {
        "id": "PiDZOYKVRNXO"
      },
      "source": [
        ""
      ],
      "execution_count": null,
      "outputs": []
    }
  ]
}