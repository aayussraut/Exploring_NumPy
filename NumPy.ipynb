{
  "nbformat": 4,
  "nbformat_minor": 0,
  "metadata": {
    "colab": {
      "name": "NumPy.ipynb",
      "provenance": [],
      "collapsed_sections": [],
      "authorship_tag": "ABX9TyOolDtn9bqspo5+fQiTOfkO",
      "include_colab_link": true
    },
    "kernelspec": {
      "name": "python3",
      "display_name": "Python 3"
    },
    "language_info": {
      "name": "python"
    }
  },
  "cells": [
    {
      "cell_type": "markdown",
      "metadata": {
        "id": "view-in-github",
        "colab_type": "text"
      },
      "source": [
        "<a href=\"https://colab.research.google.com/github/aayussraut/Exploring_NumPy/blob/main/NumPy.ipynb\" target=\"_parent\"><img src=\"https://colab.research.google.com/assets/colab-badge.svg\" alt=\"Open In Colab\"/></a>"
      ]
    },
    {
      "cell_type": "code",
      "metadata": {
        "id": "6gSBlHIiW5B5"
      },
      "source": [
        "import numpy as np\n"
      ],
      "execution_count": null,
      "outputs": []
    },
    {
      "cell_type": "code",
      "metadata": {
        "colab": {
          "base_uri": "https://localhost:8080/"
        },
        "id": "u9OASeQ5XCje",
        "outputId": "20a912af-1ae5-4807-915b-64bf0dff904e"
      },
      "source": [
        "x=np.array([[1,2,3],[4,5,6,6]])\n",
        "print(\"x:\\n{}\".format(x))"
      ],
      "execution_count": null,
      "outputs": [
        {
          "output_type": "stream",
          "text": [
            "x:\n",
            "[list([1, 2, 3]) list([4, 5, 6, 6])]\n"
          ],
          "name": "stdout"
        },
        {
          "output_type": "stream",
          "text": [
            "/usr/local/lib/python3.7/dist-packages/ipykernel_launcher.py:1: VisibleDeprecationWarning: Creating an ndarray from ragged nested sequences (which is a list-or-tuple of lists-or-tuples-or ndarrays with different lengths or shapes) is deprecated. If you meant to do this, you must specify 'dtype=object' when creating the ndarray\n",
            "  \"\"\"Entry point for launching an IPython kernel.\n"
          ],
          "name": "stderr"
        }
      ]
    },
    {
      "cell_type": "markdown",
      "metadata": {
        "id": "EOZXZpItUYY4"
      },
      "source": [
        "## **NumPy**\n",
        "- extension package to Python for multi-diensional arrays\n",
        "- closer to hardware\n",
        "- designed for scinetific computation\n",
        "- aslo known as array oriented computing.\n"
      ]
    },
    {
      "cell_type": "markdown",
      "metadata": {
        "id": "1QxgORVkJ_DF"
      },
      "source": [
        "#### **array**\n",
        "- is central data structure of the Numpy library.\n",
        "- the elements in array are of same type"
      ]
    },
    {
      "cell_type": "code",
      "metadata": {
        "id": "3dO1ylmQXGoo"
      },
      "source": [
        "import numpy as np"
      ],
      "execution_count": null,
      "outputs": []
    },
    {
      "cell_type": "code",
      "metadata": {
        "id": "awygQr82KVEL"
      },
      "source": [
        "#example\n",
        "a=np.array([1,2,3,4,5])  # of int type\n",
        "a=np.array([[1,2,3,4],[4,5,6,7]])  #list type"
      ],
      "execution_count": null,
      "outputs": []
    },
    {
      "cell_type": "code",
      "metadata": {
        "colab": {
          "base_uri": "https://localhost:8080/"
        },
        "id": "1QVALumqKphP",
        "outputId": "4f60dc0f-a21a-4461-d62d-b55e22e6a93c"
      },
      "source": [
        "#accessing elements\n",
        "\n",
        "print(a[0])"
      ],
      "execution_count": null,
      "outputs": [
        {
          "output_type": "stream",
          "text": [
            "[1 2 3 4]\n"
          ],
          "name": "stdout"
        }
      ]
    },
    {
      "cell_type": "markdown",
      "metadata": {
        "id": "z4CW2zeCLhh6"
      },
      "source": [
        "##### Attributes of an array\n",
        "\n",
        "- the no of dimensions and items in an array is defined by iys shape\n",
        "- the shape of an array is a tuple of nonnegative intergers that specufy the sized of each dimension.\n",
        "\n",
        "- suppose we have a 2D array that looks like:\n",
        "\n",
        "[[0., 0., 0.],\n",
        "\n",
        " [1., 1., 1.]]\n",
        "\n",
        "- It means our array has 2 axes. THe first axis has a length of 2 and second axis has a length of 3.\n",
        "\n"
      ]
    },
    {
      "cell_type": "markdown",
      "metadata": {
        "id": "xLZOO-afN5V5"
      },
      "source": [
        "#### **Creating a Basic Array**\n",
        "\n",
        "-np.array(), np.zeros(), np.ones(), np.empty(), np.arange(), np.linspace(), dtype"
      ]
    },
    {
      "cell_type": "code",
      "metadata": {
        "id": "ir0hwsu9OH9C"
      },
      "source": [
        "import numpy as np"
      ],
      "execution_count": 2,
      "outputs": []
    },
    {
      "cell_type": "code",
      "metadata": {
        "colab": {
          "base_uri": "https://localhost:8080/"
        },
        "id": "T8mZOm5CNwVg",
        "outputId": "ddfc6e82-84c2-4ba2-e2bd-c5711c61b989"
      },
      "source": [
        "#np.array()\n",
        "# To create a Numpy array\n",
        "a=np.array([1,2,3])\n",
        "a"
      ],
      "execution_count": null,
      "outputs": [
        {
          "output_type": "execute_result",
          "data": {
            "text/plain": [
              "array([1, 2, 3])"
            ]
          },
          "metadata": {
            "tags": []
          },
          "execution_count": 9
        }
      ]
    },
    {
      "cell_type": "code",
      "metadata": {
        "id": "V2H7cFGiOUjb",
        "colab": {
          "base_uri": "https://localhost:8080/"
        },
        "outputId": "1174ec68-11ea-4927-8c1b-1a1d08de9d1a"
      },
      "source": [
        "#np.zeros()\n",
        "# to create an array filled with 0's\n",
        "np.zeros(2)"
      ],
      "execution_count": null,
      "outputs": [
        {
          "output_type": "execute_result",
          "data": {
            "text/plain": [
              "array([0., 0.])"
            ]
          },
          "metadata": {
            "tags": []
          },
          "execution_count": 10
        }
      ]
    },
    {
      "cell_type": "code",
      "metadata": {
        "id": "1D050FQKOf9V",
        "colab": {
          "base_uri": "https://localhost:8080/"
        },
        "outputId": "76915f4b-eefe-47e7-bbde-a1d33faeba95"
      },
      "source": [
        "#np.ones()\n",
        "# to cerate an array filled with 1's\n",
        "np.ones(1)"
      ],
      "execution_count": null,
      "outputs": [
        {
          "output_type": "execute_result",
          "data": {
            "text/plain": [
              "array([1.])"
            ]
          },
          "metadata": {
            "tags": []
          },
          "execution_count": 11
        }
      ]
    },
    {
      "cell_type": "code",
      "metadata": {
        "id": "VGe2kkbBPCwZ",
        "colab": {
          "base_uri": "https://localhost:8080/"
        },
        "outputId": "ffed89e3-4917-4bb9-8440-2263168d354c"
      },
      "source": [
        "#np.zeros\n",
        "\n",
        "# creates an array whose initial content is random and depends on the state of the memory\n",
        "# the reasons ti use empty over zeros is speed\n",
        "\n",
        "np.empty(2)"
      ],
      "execution_count": null,
      "outputs": [
        {
          "output_type": "execute_result",
          "data": {
            "text/plain": [
              "array([0., 0.])"
            ]
          },
          "metadata": {
            "tags": []
          },
          "execution_count": 12
        }
      ]
    },
    {
      "cell_type": "code",
      "metadata": {
        "id": "JOgfcPlUPXiZ",
        "colab": {
          "base_uri": "https://localhost:8080/"
        },
        "outputId": "d33bf025-6219-474a-b362-edecde13487c"
      },
      "source": [
        "#np.arange()\n",
        "\n",
        "# to create an array with a range of elements\n",
        "\n",
        "np.arange(4)\n"
      ],
      "execution_count": null,
      "outputs": [
        {
          "output_type": "execute_result",
          "data": {
            "text/plain": [
              "array([0, 1, 2, 3])"
            ]
          },
          "metadata": {
            "tags": []
          },
          "execution_count": 13
        }
      ]
    },
    {
      "cell_type": "code",
      "metadata": {
        "id": "j2lW8Fl_PmAI",
        "colab": {
          "base_uri": "https://localhost:8080/"
        },
        "outputId": "f23121e2-08b6-4a04-91c6-0911318cd866"
      },
      "source": [
        "# to create an array that contains a range of evenly spaced intervals.\n",
        "\n",
        "np.arange(2,9,2)\n"
      ],
      "execution_count": null,
      "outputs": [
        {
          "output_type": "execute_result",
          "data": {
            "text/plain": [
              "array([2, 4, 6, 8])"
            ]
          },
          "metadata": {
            "tags": []
          },
          "execution_count": 14
        }
      ]
    },
    {
      "cell_type": "code",
      "metadata": {
        "id": "HHSX-0hQPyOB"
      },
      "source": [
        "#np.linspace()\n",
        "\n",
        "# to create an array with values that are spaced linearly in specified interval\n",
        "\n",
        "np.linspace(0,10,num=5)\n",
        "\n",
        "# num= 5 means .. 5 no. between 0 and 10"
      ],
      "execution_count": null,
      "outputs": []
    },
    {
      "cell_type": "code",
      "metadata": {
        "id": "9BKYGWf6QFyZ",
        "colab": {
          "base_uri": "https://localhost:8080/"
        },
        "outputId": "7a63a14a-7177-4da7-a659-756c7a3a7296"
      },
      "source": [
        "np.linspace(0,10,num=5 ,endpoint=False)\n",
        "# returns 5 no between 0 and 10 where 10 is excluded."
      ],
      "execution_count": null,
      "outputs": [
        {
          "output_type": "execute_result",
          "data": {
            "text/plain": [
              "array([0., 2., 4., 6., 8.])"
            ]
          },
          "metadata": {
            "tags": []
          },
          "execution_count": 15
        }
      ]
    },
    {
      "cell_type": "code",
      "metadata": {
        "colab": {
          "base_uri": "https://localhost:8080/"
        },
        "id": "nOIn_DSdQ3c_",
        "outputId": "bb8508a5-35d7-4a1f-90d5-51c52c4ef0c1"
      },
      "source": [
        "#dtype\n",
        "\n",
        "#specifying data type\n",
        "\n",
        "np.ones(2,dtype=np.int64)"
      ],
      "execution_count": null,
      "outputs": [
        {
          "output_type": "execute_result",
          "data": {
            "text/plain": [
              "array([1, 1])"
            ]
          },
          "metadata": {
            "tags": []
          },
          "execution_count": 16
        }
      ]
    },
    {
      "cell_type": "markdown",
      "metadata": {
        "id": "xk6u2vDxWWaK"
      },
      "source": [
        "#### Adding, removing and sorting elements\n",
        "\n",
        "- np.sort(),np.concatenate()"
      ]
    },
    {
      "cell_type": "code",
      "metadata": {
        "id": "PiDZOYKVRNXO",
        "colab": {
          "base_uri": "https://localhost:8080/"
        },
        "outputId": "f30d31cb-956c-4eec-924b-88a8aa0ededa"
      },
      "source": [
        "#np.sort()\n",
        "\n",
        "arr=np.array([2,1,5,3,7,4,6,8])\n",
        "np.sort(arr)"
      ],
      "execution_count": null,
      "outputs": [
        {
          "output_type": "execute_result",
          "data": {
            "text/plain": [
              "array([1, 2, 3, 4, 5, 6, 7, 8])"
            ]
          },
          "metadata": {
            "tags": []
          },
          "execution_count": 3
        }
      ]
    },
    {
      "cell_type": "code",
      "metadata": {
        "colab": {
          "base_uri": "https://localhost:8080/"
        },
        "id": "28UBXgaQWohs",
        "outputId": "b05e8e65-d435-4453-f98c-7a5e0ddb1200"
      },
      "source": [
        "#np.partition \n",
        "\n",
        "# -rearranges the elements of kth position(i.e. 3 in example) such a way that All elements smaller than the k-th element are moved before this element and all equal or greater are moved behind it. \n",
        "a=np.array([4,2,8,6,10])\n",
        "np.partition(a,3)"
      ],
      "execution_count": null,
      "outputs": [
        {
          "output_type": "execute_result",
          "data": {
            "text/plain": [
              "array([ 6,  4,  2,  8, 10])"
            ]
          },
          "metadata": {
            "tags": []
          },
          "execution_count": 6
        }
      ]
    },
    {
      "cell_type": "code",
      "metadata": {
        "colab": {
          "base_uri": "https://localhost:8080/"
        },
        "id": "ZgHU1Mn7Xexs",
        "outputId": "b9b077cd-1b72-41a0-b1eb-248b45e7fcba"
      },
      "source": [
        "#np.concatenate()\n",
        "\n",
        "a=np.array([1,2,3,4])\n",
        "b=np.array([5,6,7,8])\n",
        "\n",
        "np.concatenate((a,b))"
      ],
      "execution_count": null,
      "outputs": [
        {
          "output_type": "execute_result",
          "data": {
            "text/plain": [
              "array([1, 2, 3, 4, 5, 6, 7, 8])"
            ]
          },
          "metadata": {
            "tags": []
          },
          "execution_count": 8
        }
      ]
    },
    {
      "cell_type": "markdown",
      "metadata": {
        "id": "ikR6GD_uaf8G"
      },
      "source": [
        "### **Shape and size of array**\n",
        "- ndarray.ndim : tell us the number of axes,or dimensions, of the array\n",
        "\n",
        "- ndarray.size : tell us the total number of elements of the array's shape\n",
        "\n",
        "- ndarray.shape : will display a tuple of integers that indiacate the number of elements stored along each dimension of the array."
      ]
    },
    {
      "cell_type": "code",
      "metadata": {
        "id": "HcoqeO7WZNXx"
      },
      "source": [
        "array_example =np.array([[[0,1,2,3],\n",
        "                          [4,5,6,7]],\n",
        "                         [[0,1,2,3],\n",
        "                          [4,5,6,7]],\n",
        "                         [[0,1,2,3],\n",
        "                          [4,5,6,7]]])\n"
      ],
      "execution_count": null,
      "outputs": []
    },
    {
      "cell_type": "code",
      "metadata": {
        "colab": {
          "base_uri": "https://localhost:8080/"
        },
        "id": "nZ2CubxMbrUz",
        "outputId": "fc01ac28-ca28-4cfd-ea83-00ac59e71c39"
      },
      "source": [
        "array_example.ndim"
      ],
      "execution_count": null,
      "outputs": [
        {
          "output_type": "execute_result",
          "data": {
            "text/plain": [
              "3"
            ]
          },
          "metadata": {
            "tags": []
          },
          "execution_count": 10
        }
      ]
    },
    {
      "cell_type": "code",
      "metadata": {
        "colab": {
          "base_uri": "https://localhost:8080/"
        },
        "id": "MIRgm0ycbtwc",
        "outputId": "c87e2f15-0bc6-4217-9b6a-e9179307912e"
      },
      "source": [
        "array_example.size"
      ],
      "execution_count": null,
      "outputs": [
        {
          "output_type": "execute_result",
          "data": {
            "text/plain": [
              "24"
            ]
          },
          "metadata": {
            "tags": []
          },
          "execution_count": 11
        }
      ]
    },
    {
      "cell_type": "code",
      "metadata": {
        "colab": {
          "base_uri": "https://localhost:8080/"
        },
        "id": "Peg322FUbx5G",
        "outputId": "14a46232-bad4-4de1-e7ac-164bf31d3ba5"
      },
      "source": [
        "array_example.shape"
      ],
      "execution_count": null,
      "outputs": [
        {
          "output_type": "execute_result",
          "data": {
            "text/plain": [
              "(3, 2, 4)"
            ]
          },
          "metadata": {
            "tags": []
          },
          "execution_count": 12
        }
      ]
    },
    {
      "cell_type": "markdown",
      "metadata": {
        "id": "J3oWVMMlcMdn"
      },
      "source": [
        "#### **Reshape an array**\n",
        "\n",
        "- arr.reshape() : will give a new shape to an array with out changing the data."
      ]
    },
    {
      "cell_type": "code",
      "metadata": {
        "colab": {
          "base_uri": "https://localhost:8080/"
        },
        "id": "iEHl-QRObzoH",
        "outputId": "c79260a8-8add-4998-e7ac-66c9266b9415"
      },
      "source": [
        "#arr.reshape\n",
        "\n",
        "a=np.arange(6)\n",
        "print(a)\n",
        "\n",
        "b=a.reshape(3,2) #reshaped to 3*2 matrix\n",
        "print(b) "
      ],
      "execution_count": null,
      "outputs": [
        {
          "output_type": "stream",
          "text": [
            "[0 1 2 3 4 5]\n",
            "[[0 1]\n",
            " [2 3]\n",
            " [4 5]]\n"
          ],
          "name": "stdout"
        }
      ]
    },
    {
      "cell_type": "code",
      "metadata": {
        "colab": {
          "base_uri": "https://localhost:8080/"
        },
        "id": "JhbRVtlhciuY",
        "outputId": "b4657d3f-3889-4a6c-f531-bd5572ada361"
      },
      "source": [
        "np.reshape(a,newshape=(1,6), order='C')\n",
        "\n",
        "#newshape =shape we want\n",
        "# a = array to be reshaped\n",
        "\n",
        "# order = C meands to read/write the elements using C like Index, F meands using Foratan_like index order and A means to read/write the elements in Fortran-like index order if a is Fortran contiguous in memory, C-like order otherwise."
      ],
      "execution_count": null,
      "outputs": [
        {
          "output_type": "execute_result",
          "data": {
            "text/plain": [
              "array([[0, 1, 2, 3, 4, 5]])"
            ]
          },
          "metadata": {
            "tags": []
          },
          "execution_count": 15
        }
      ]
    },
    {
      "cell_type": "markdown",
      "metadata": {
        "id": "I1jx0sDEenGh"
      },
      "source": [
        "### **Converting 1D array into a 2D array**\n",
        "\n",
        "- np.newaxis() : will increase the dimensions of array by ome dimension when used once.\n",
        "- np.expand_dims(): \n",
        "\n"
      ]
    },
    {
      "cell_type": "code",
      "metadata": {
        "colab": {
          "base_uri": "https://localhost:8080/"
        },
        "id": "3imNZEdWeHgk",
        "outputId": "d0334d67-d845-49ae-e382-82eff9976847"
      },
      "source": [
        "#np.newaxis()\n",
        "\n",
        "a= np.array([1,2,3,4,5])\n",
        "a.shape"
      ],
      "execution_count": null,
      "outputs": [
        {
          "output_type": "execute_result",
          "data": {
            "text/plain": [
              "(5,)"
            ]
          },
          "metadata": {
            "tags": []
          },
          "execution_count": 19
        }
      ]
    },
    {
      "cell_type": "code",
      "metadata": {
        "colab": {
          "base_uri": "https://localhost:8080/"
        },
        "id": "SOzVvZqffRi6",
        "outputId": "266af16c-4814-46a9-cb7f-3ba8cee61341"
      },
      "source": [
        "a2=a[np.newaxis,:]\n",
        "a2.shape"
      ],
      "execution_count": null,
      "outputs": [
        {
          "output_type": "execute_result",
          "data": {
            "text/plain": [
              "(1, 5)"
            ]
          },
          "metadata": {
            "tags": []
          },
          "execution_count": 21
        }
      ]
    },
    {
      "cell_type": "code",
      "metadata": {
        "colab": {
          "base_uri": "https://localhost:8080/"
        },
        "id": "gMPM1LHJfZ51",
        "outputId": "f96994c7-e8cd-4c9d-9d04-3b403b0d3dc0"
      },
      "source": [
        "row_vector=a[np.newaxis,:]\n",
        "row_vector.shape"
      ],
      "execution_count": null,
      "outputs": [
        {
          "output_type": "execute_result",
          "data": {
            "text/plain": [
              "(1, 5)"
            ]
          },
          "metadata": {
            "tags": []
          },
          "execution_count": 22
        }
      ]
    },
    {
      "cell_type": "code",
      "metadata": {
        "colab": {
          "base_uri": "https://localhost:8080/"
        },
        "id": "5gBaLEFffpzj",
        "outputId": "ac794e2d-4019-4014-d0b6-0003ba0bd9ea"
      },
      "source": [
        "column_vector=a[:,np.newaxis]\n",
        "column_vector.shape"
      ],
      "execution_count": null,
      "outputs": [
        {
          "output_type": "execute_result",
          "data": {
            "text/plain": [
              "(5, 1)"
            ]
          },
          "metadata": {
            "tags": []
          },
          "execution_count": 23
        }
      ]
    },
    {
      "cell_type": "code",
      "metadata": {
        "colab": {
          "base_uri": "https://localhost:8080/"
        },
        "id": "oKFcgcqofwge",
        "outputId": "84a58f41-db9a-46c0-f2b4-ec87e6e58063"
      },
      "source": [
        "#np.expand_dims\n",
        "\n",
        "b=np.expand_dims(a,axis=1)\n",
        "b.shape"
      ],
      "execution_count": null,
      "outputs": [
        {
          "output_type": "execute_result",
          "data": {
            "text/plain": [
              "(5, 1)"
            ]
          },
          "metadata": {
            "tags": []
          },
          "execution_count": 25
        }
      ]
    },
    {
      "cell_type": "code",
      "metadata": {
        "colab": {
          "base_uri": "https://localhost:8080/"
        },
        "id": "_k_XmYgQf7-U",
        "outputId": "74233e04-262f-4e8b-cfe2-3ff690c05f7f"
      },
      "source": [
        "b=np.expand_dims(a,axis=0)\n",
        "b.shape"
      ],
      "execution_count": null,
      "outputs": [
        {
          "output_type": "execute_result",
          "data": {
            "text/plain": [
              "(1, 5)"
            ]
          },
          "metadata": {
            "tags": []
          },
          "execution_count": 26
        }
      ]
    },
    {
      "cell_type": "markdown",
      "metadata": {
        "id": "Hv-RWrlCgJWX"
      },
      "source": [
        "#### **Indexing and Slicing**\n",
        "\n",
        "- same as slicing python lists."
      ]
    },
    {
      "cell_type": "code",
      "metadata": {
        "id": "VPAaGISxgCuW",
        "colab": {
          "base_uri": "https://localhost:8080/"
        },
        "outputId": "a58a96cf-3eba-47e1-995f-52e1c431d6f3"
      },
      "source": [
        "### Indexing and Slicing\n",
        "\n",
        "data =np.array([1,2,3])\n",
        "print(data[1])\n",
        "print(data[0:2])\n",
        "print(data[1:])\n",
        "print(data[-2:])"
      ],
      "execution_count": null,
      "outputs": [
        {
          "output_type": "stream",
          "text": [
            "2\n",
            "[1 2]\n",
            "[2 3]\n",
            "[2 3]\n"
          ],
          "name": "stdout"
        }
      ]
    },
    {
      "cell_type": "code",
      "metadata": {
        "colab": {
          "base_uri": "https://localhost:8080/"
        },
        "id": "Pt3hVrzSfLA8",
        "outputId": "311be06f-d7f6-4e9d-a6ed-e3426191aeca"
      },
      "source": [
        "a=np.array([[1,2,3,4],[5,6,7,8],[9,10,11,12]])\n",
        "\n",
        "print(a[a<5])"
      ],
      "execution_count": null,
      "outputs": [
        {
          "output_type": "stream",
          "text": [
            "[1 2 3 4]\n"
          ],
          "name": "stdout"
        }
      ]
    },
    {
      "cell_type": "code",
      "metadata": {
        "colab": {
          "base_uri": "https://localhost:8080/"
        },
        "id": "oXXU3Bmrf3oo",
        "outputId": "b04a36c9-5bac-4bde-b22f-e63671090520"
      },
      "source": [
        "five_up =(a>=5)\n",
        "print(a[five_up])"
      ],
      "execution_count": null,
      "outputs": [
        {
          "output_type": "stream",
          "text": [
            "[ 5  6  7  8  9 10 11 12]\n"
          ],
          "name": "stdout"
        }
      ]
    },
    {
      "cell_type": "code",
      "metadata": {
        "colab": {
          "base_uri": "https://localhost:8080/"
        },
        "id": "ItG1gGLFf9s_",
        "outputId": "d499c9fc-920a-4d85-8492-ccd27b3be5d0"
      },
      "source": [
        "divisible_by_2=a[a%2==0]\n",
        "print(divisible_by_2)"
      ],
      "execution_count": null,
      "outputs": [
        {
          "output_type": "stream",
          "text": [
            "[ 2  4  6  8 10 12]\n"
          ],
          "name": "stdout"
        }
      ]
    },
    {
      "cell_type": "code",
      "metadata": {
        "colab": {
          "base_uri": "https://localhost:8080/"
        },
        "id": "KSBxNnNhgHWM",
        "outputId": "95506d22-ec5d-4923-bc3c-66689660ede4"
      },
      "source": [
        "c=a[(a>5)&(a<11)]\n",
        "print(c)"
      ],
      "execution_count": null,
      "outputs": [
        {
          "output_type": "stream",
          "text": [
            "[ 6  7  8  9 10]\n"
          ],
          "name": "stdout"
        }
      ]
    },
    {
      "cell_type": "code",
      "metadata": {
        "colab": {
          "base_uri": "https://localhost:8080/"
        },
        "id": "jP4DqyXAgVT1",
        "outputId": "15aec88a-a239-464f-d011-ab9f22a04d5e"
      },
      "source": [
        "c=(a>5) &(a<11)\n",
        "print(a[c])"
      ],
      "execution_count": null,
      "outputs": [
        {
          "output_type": "stream",
          "text": [
            "[ 6  7  8  9 10]\n"
          ],
          "name": "stdout"
        }
      ]
    },
    {
      "cell_type": "code",
      "metadata": {
        "colab": {
          "base_uri": "https://localhost:8080/"
        },
        "id": "KVHMAyOWgdsv",
        "outputId": "995593dc-b988-4002-e116-93b9ad3f6a3e"
      },
      "source": [
        "c=(a>5) &(a<11)\n",
        "print(c)"
      ],
      "execution_count": null,
      "outputs": [
        {
          "output_type": "stream",
          "text": [
            "[[False False False False]\n",
            " [False  True  True  True]\n",
            " [ True  True False False]]\n"
          ],
          "name": "stdout"
        }
      ]
    },
    {
      "cell_type": "code",
      "metadata": {
        "id": "SaJfu0W7hYkJ"
      },
      "source": [
        "a = np.array([[1, 2, 3, 4], [5, 6, 7, 8], [9, 10, 11, 12]])"
      ],
      "execution_count": null,
      "outputs": []
    },
    {
      "cell_type": "code",
      "metadata": {
        "colab": {
          "base_uri": "https://localhost:8080/"
        },
        "id": "gZGsKapwgq5s",
        "outputId": "971ecec9-ba75-45e3-c654-b7a7640337de"
      },
      "source": [
        "#print the indices of elements that are less than 5 using np.nonzero()\n",
        "b=np.nonzero(a<5)\n",
        "print(b)\n",
        "# here a tuple of arrays was returned: one for each dimension. THe first array represents the row indices where these value ate found and the second array represents the column indicies where the values are found."
      ],
      "execution_count": null,
      "outputs": [
        {
          "output_type": "stream",
          "text": [
            "(array([0, 0, 0, 0]), array([0, 1, 2, 3]))\n"
          ],
          "name": "stdout"
        }
      ]
    },
    {
      "cell_type": "markdown",
      "metadata": {
        "id": "am7Jm01Vkvwl"
      },
      "source": [
        "### **create an array from existing data**"
      ]
    },
    {
      "cell_type": "code",
      "metadata": {
        "colab": {
          "base_uri": "https://localhost:8080/"
        },
        "id": "vX7Yx-Iphe8N",
        "outputId": "ac4e805c-3e34-4ae7-c9e6-4135493b4b1d"
      },
      "source": [
        "a=np.array([1,2,3,4,5,6,7,8,9,10])\n",
        "\n",
        "arr1=a[3:8]\n",
        "arr1"
      ],
      "execution_count": null,
      "outputs": [
        {
          "output_type": "execute_result",
          "data": {
            "text/plain": [
              "array([4, 5, 6, 7, 8])"
            ]
          },
          "metadata": {
            "tags": []
          },
          "execution_count": 17
        }
      ]
    },
    {
      "cell_type": "code",
      "metadata": {
        "colab": {
          "base_uri": "https://localhost:8080/"
        },
        "id": "nH_UrXDSlACT",
        "outputId": "875f49cf-17ba-497f-bc24-3fd9b0badaa7"
      },
      "source": [
        "#stack two existing arrays,both verticaly and horizontally,\n",
        "\n",
        "a1=np.array([[1,1],\n",
        "            [2,2]])\n",
        "\n",
        "a2=np.array([[3,3],\n",
        "             [4,4]])\n",
        "\n",
        "print(np.vstack((a1,a2)))\n",
        "\n",
        "print(\"\\n\")\n",
        "\n",
        "print(np.hstack((a1,a2)))"
      ],
      "execution_count": null,
      "outputs": [
        {
          "output_type": "stream",
          "text": [
            "[[1 1]\n",
            " [2 2]\n",
            " [3 3]\n",
            " [4 4]]\n",
            "\n",
            "\n",
            "[[1 1 3 3]\n",
            " [2 2 4 4]]\n"
          ],
          "name": "stdout"
        }
      ]
    },
    {
      "cell_type": "code",
      "metadata": {
        "colab": {
          "base_uri": "https://localhost:8080/"
        },
        "id": "xYjbqur_lz_l",
        "outputId": "40967f01-a8db-4ed4-883c-f0664e5ac922"
      },
      "source": [
        "#spliting an array into several smaller arrays using hsplit.\n",
        "\n",
        "x=np.arange(1,25).reshape(2,12)\n",
        "print(x)"
      ],
      "execution_count": null,
      "outputs": [
        {
          "output_type": "stream",
          "text": [
            "[[ 1  2  3  4  5  6  7  8  9 10 11 12]\n",
            " [13 14 15 16 17 18 19 20 21 22 23 24]]\n"
          ],
          "name": "stdout"
        }
      ]
    },
    {
      "cell_type": "code",
      "metadata": {
        "colab": {
          "base_uri": "https://localhost:8080/"
        },
        "id": "ZE7oqkl8mwBp",
        "outputId": "5bc76d0a-904f-4dbd-ee25-09b9c43689f3"
      },
      "source": [
        "print(np.hsplit(x,3))\n",
        "\n",
        "#split array into three equally shaped arrays."
      ],
      "execution_count": null,
      "outputs": [
        {
          "output_type": "stream",
          "text": [
            "[array([[ 1,  2,  3,  4],\n",
            "       [13, 14, 15, 16]]), array([[ 5,  6,  7,  8],\n",
            "       [17, 18, 19, 20]]), array([[ 9, 10, 11, 12],\n",
            "       [21, 22, 23, 24]])]\n"
          ],
          "name": "stdout"
        }
      ]
    },
    {
      "cell_type": "code",
      "metadata": {
        "colab": {
          "base_uri": "https://localhost:8080/"
        },
        "id": "POAYgOnkm2uP",
        "outputId": "cc912598-40c1-41ec-ebe1-fca5b0415297"
      },
      "source": [
        "#split our array after the third and fourth column:\n",
        "print(np.hsplit(x,(3,4)))"
      ],
      "execution_count": null,
      "outputs": [
        {
          "output_type": "stream",
          "text": [
            "[array([[ 1,  2,  3],\n",
            "       [13, 14, 15]]), array([[ 4],\n",
            "       [16]]), array([[ 5,  6,  7,  8,  9, 10, 11, 12],\n",
            "       [17, 18, 19, 20, 21, 22, 23, 24]])]\n"
          ],
          "name": "stdout"
        }
      ]
    },
    {
      "cell_type": "code",
      "metadata": {
        "colab": {
          "base_uri": "https://localhost:8080/"
        },
        "id": "pGfz22CvnLV0",
        "outputId": "3d0431e3-7de3-4e08-f1e5-8562f4777991"
      },
      "source": [
        "#slicing and modifying\n",
        "a = np.array([[1, 2, 3, 4], [5, 6, 7, 8], [9, 10, 11, 12]])\n",
        "b1 = a[0, :]\n",
        "print(b1)\n",
        "b1[0]=99\n",
        "print(b1)\n",
        "print(a)"
      ],
      "execution_count": null,
      "outputs": [
        {
          "output_type": "stream",
          "text": [
            "[1 2 3 4]\n",
            "[99  2  3  4]\n",
            "[[99  2  3  4]\n",
            " [ 5  6  7  8]\n",
            " [ 9 10 11 12]]\n"
          ],
          "name": "stdout"
        }
      ]
    },
    {
      "cell_type": "code",
      "metadata": {
        "colab": {
          "base_uri": "https://localhost:8080/"
        },
        "id": "QBy42mxnnqqS",
        "outputId": "819e3d9b-4272-4929-cb10-36060409245d"
      },
      "source": [
        "a = np.array([[1, 2, 3, 4], [5, 6, 7, 8], [9, 10, 11, 12]])\n",
        "b1=a.copy()\n",
        "b1"
      ],
      "execution_count": null,
      "outputs": [
        {
          "output_type": "execute_result",
          "data": {
            "text/plain": [
              "array([[ 1,  2,  3,  4],\n",
              "       [ 5,  6,  7,  8],\n",
              "       [ 9, 10, 11, 12]])"
            ]
          },
          "metadata": {
            "tags": []
          },
          "execution_count": 26
        }
      ]
    },
    {
      "cell_type": "code",
      "metadata": {
        "id": "48SroHxknXRn"
      },
      "source": [
        ""
      ],
      "execution_count": null,
      "outputs": []
    },
    {
      "cell_type": "markdown",
      "metadata": {
        "id": "14zj0yignUyM"
      },
      "source": [
        "#### **Basic array operations**\n",
        "\n",
        "- sum() : sum of the elements in an array"
      ]
    },
    {
      "cell_type": "code",
      "metadata": {
        "id": "blbNXG5jn5x4",
        "colab": {
          "base_uri": "https://localhost:8080/"
        },
        "outputId": "1fc80a44-1520-4b34-a81c-cb91cbb4b33b"
      },
      "source": [
        "# adding arrays together with the plus sign\n",
        "\n",
        "data=np.array([1,2])\n",
        "ones=np.ones(2,dtype=int)\n",
        "data+ones"
      ],
      "execution_count": 4,
      "outputs": [
        {
          "output_type": "execute_result",
          "data": {
            "text/plain": [
              "array([2, 3])"
            ]
          },
          "metadata": {
            "tags": []
          },
          "execution_count": 4
        }
      ]
    },
    {
      "cell_type": "code",
      "metadata": {
        "colab": {
          "base_uri": "https://localhost:8080/"
        },
        "id": "oLogTsFbnuZc",
        "outputId": "560f7e60-5d12-4e19-997e-9c167106daf4"
      },
      "source": [
        "# more than addition\n",
        "print(data-ones)\n",
        "print(data*ones)\n",
        "print(data/ones)"
      ],
      "execution_count": 5,
      "outputs": [
        {
          "output_type": "stream",
          "text": [
            "[0 1]\n",
            "[1 2]\n",
            "[1. 2.]\n"
          ],
          "name": "stdout"
        }
      ]
    },
    {
      "cell_type": "code",
      "metadata": {
        "colab": {
          "base_uri": "https://localhost:8080/"
        },
        "id": "DSLsGSkooClT",
        "outputId": "af2f746d-cf4c-4c5d-c7bd-1c29d80eeddb"
      },
      "source": [
        "a=np.array([1,2,3,4])\n",
        "\n",
        "a.sum()"
      ],
      "execution_count": 6,
      "outputs": [
        {
          "output_type": "execute_result",
          "data": {
            "text/plain": [
              "10"
            ]
          },
          "metadata": {
            "tags": []
          },
          "execution_count": 6
        }
      ]
    },
    {
      "cell_type": "code",
      "metadata": {
        "colab": {
          "base_uri": "https://localhost:8080/"
        },
        "id": "K1srF-xYocIa",
        "outputId": "0c6bc21f-ae3c-40dc-9780-4d503b75ee04"
      },
      "source": [
        "b=np.array([[1,1],[2,2]])\n",
        "b.sum(axis=0)\n",
        "\n",
        "#sum over the axis of rows"
      ],
      "execution_count": 7,
      "outputs": [
        {
          "output_type": "execute_result",
          "data": {
            "text/plain": [
              "array([3, 3])"
            ]
          },
          "metadata": {
            "tags": []
          },
          "execution_count": 7
        }
      ]
    },
    {
      "cell_type": "code",
      "metadata": {
        "colab": {
          "base_uri": "https://localhost:8080/"
        },
        "id": "SKLa902LopEp",
        "outputId": "85bb6c7b-159d-4f34-fde9-19b66143ac82"
      },
      "source": [
        "b.sum(axis=1)\n",
        "\n",
        "#sum over the axis of column"
      ],
      "execution_count": 8,
      "outputs": [
        {
          "output_type": "execute_result",
          "data": {
            "text/plain": [
              "array([2, 4])"
            ]
          },
          "metadata": {
            "tags": []
          },
          "execution_count": 8
        }
      ]
    },
    {
      "cell_type": "code",
      "metadata": {
        "colab": {
          "base_uri": "https://localhost:8080/"
        },
        "id": "ugEb7qu8pBzj",
        "outputId": "7a3bde5a-9517-4f1e-f90b-ae556d5611da"
      },
      "source": [
        "# operation between an array and a single number\n",
        "# also called an operation between a vector and a scalar.\n",
        "\n",
        "data=np.array([1.0,2.0])\n",
        "data*1.6"
      ],
      "execution_count": 9,
      "outputs": [
        {
          "output_type": "execute_result",
          "data": {
            "text/plain": [
              "array([1.6, 3.2])"
            ]
          },
          "metadata": {
            "tags": []
          },
          "execution_count": 9
        }
      ]
    },
    {
      "cell_type": "code",
      "metadata": {
        "colab": {
          "base_uri": "https://localhost:8080/"
        },
        "id": "2XkVScm-pggs",
        "outputId": "fb79ce63-05bc-4876-857d-2224ffa4d544"
      },
      "source": [
        "data=np.array([1.0,2.0])\n",
        "\n",
        "print(data.max())\n",
        "print(data.min())\n",
        "print(data.sum())"
      ],
      "execution_count": 10,
      "outputs": [
        {
          "output_type": "stream",
          "text": [
            "2.0\n",
            "1.0\n",
            "3.0\n"
          ],
          "name": "stdout"
        }
      ]
    },
    {
      "cell_type": "code",
      "metadata": {
        "id": "bzEbVJuBqDyA"
      },
      "source": [
        "a = np.array([[0.45053314, 0.17296777, 0.34376245, 0.5510652],\n",
        "...               [0.54627315, 0.05093587, 0.40067661, 0.55645993],\n",
        "...               [0.12697628, 0.82485143, 0.26590556, 0.56917101]])"
      ],
      "execution_count": 12,
      "outputs": []
    },
    {
      "cell_type": "code",
      "metadata": {
        "colab": {
          "base_uri": "https://localhost:8080/"
        },
        "id": "6eaoR3xhqODr",
        "outputId": "b437c0d8-8775-4c2c-8536-3a60626b25d0"
      },
      "source": [
        "a.sum()"
      ],
      "execution_count": 13,
      "outputs": [
        {
          "output_type": "execute_result",
          "data": {
            "text/plain": [
              "4.8595784"
            ]
          },
          "metadata": {
            "tags": []
          },
          "execution_count": 13
        }
      ]
    },
    {
      "cell_type": "code",
      "metadata": {
        "colab": {
          "base_uri": "https://localhost:8080/"
        },
        "id": "O3iVSOtwqa6W",
        "outputId": "9120e3c5-f5f1-4840-9d4d-bfd61716e69e"
      },
      "source": [
        "a.min()"
      ],
      "execution_count": 14,
      "outputs": [
        {
          "output_type": "execute_result",
          "data": {
            "text/plain": [
              "0.05093587"
            ]
          },
          "metadata": {
            "tags": []
          },
          "execution_count": 14
        }
      ]
    },
    {
      "cell_type": "code",
      "metadata": {
        "colab": {
          "base_uri": "https://localhost:8080/"
        },
        "id": "Eo5qxMELqcHB",
        "outputId": "b54da838-fa51-4037-bc45-cb7124008eb5"
      },
      "source": [
        "a.min(axis=0)"
      ],
      "execution_count": 15,
      "outputs": [
        {
          "output_type": "execute_result",
          "data": {
            "text/plain": [
              "array([0.12697628, 0.05093587, 0.26590556, 0.5510652 ])"
            ]
          },
          "metadata": {
            "tags": []
          },
          "execution_count": 15
        }
      ]
    },
    {
      "cell_type": "code",
      "metadata": {
        "colab": {
          "base_uri": "https://localhost:8080/"
        },
        "id": "MlzgEYT8qeFf",
        "outputId": "c6cfd53d-d0b3-4976-d1c1-42489717d985"
      },
      "source": [
        "a.min(axis=1)"
      ],
      "execution_count": 16,
      "outputs": [
        {
          "output_type": "execute_result",
          "data": {
            "text/plain": [
              "array([0.17296777, 0.05093587, 0.12697628])"
            ]
          },
          "metadata": {
            "tags": []
          },
          "execution_count": 16
        }
      ]
    },
    {
      "cell_type": "markdown",
      "metadata": {
        "id": "cZ0ubklnqqfJ"
      },
      "source": [
        "#### **Creating matrices**"
      ]
    },
    {
      "cell_type": "code",
      "metadata": {
        "colab": {
          "base_uri": "https://localhost:8080/"
        },
        "id": "-XOlru4pqj1A",
        "outputId": "b3aabacb-e023-4a4a-b79b-3b6771a6b016"
      },
      "source": [
        "# python lists of lists can be used to crfeate a 2-D array (or \"matrix\")\n",
        "data=np.array([[1,2],[3,4],[5,6]])\n",
        "data"
      ],
      "execution_count": 18,
      "outputs": [
        {
          "output_type": "execute_result",
          "data": {
            "text/plain": [
              "array([[1, 2],\n",
              "       [3, 4],\n",
              "       [5, 6]])"
            ]
          },
          "metadata": {
            "tags": []
          },
          "execution_count": 18
        }
      ]
    },
    {
      "cell_type": "code",
      "metadata": {
        "colab": {
          "base_uri": "https://localhost:8080/"
        },
        "id": "JbKGC6eHq1Jx",
        "outputId": "604f3fcc-94a7-4d75-8fe5-65c1ac2611a2"
      },
      "source": [
        "data[0,1]\n"
      ],
      "execution_count": 19,
      "outputs": [
        {
          "output_type": "execute_result",
          "data": {
            "text/plain": [
              "2"
            ]
          },
          "metadata": {
            "tags": []
          },
          "execution_count": 19
        }
      ]
    },
    {
      "cell_type": "code",
      "metadata": {
        "colab": {
          "base_uri": "https://localhost:8080/"
        },
        "id": "VkGFNTxmrRby",
        "outputId": "f07c45f0-fe1a-4fba-dc0c-0aded57fec3b"
      },
      "source": [
        "data[1:3]"
      ],
      "execution_count": 20,
      "outputs": [
        {
          "output_type": "execute_result",
          "data": {
            "text/plain": [
              "array([[3, 4],\n",
              "       [5, 6]])"
            ]
          },
          "metadata": {
            "tags": []
          },
          "execution_count": 20
        }
      ]
    },
    {
      "cell_type": "code",
      "metadata": {
        "colab": {
          "base_uri": "https://localhost:8080/"
        },
        "id": "C_lmq7yzrStu",
        "outputId": "72f5c744-71df-4ec2-9e5b-ea5abc8c56cc"
      },
      "source": [
        "data[0:2,0]"
      ],
      "execution_count": 21,
      "outputs": [
        {
          "output_type": "execute_result",
          "data": {
            "text/plain": [
              "array([1, 3])"
            ]
          },
          "metadata": {
            "tags": []
          },
          "execution_count": 21
        }
      ]
    },
    {
      "cell_type": "code",
      "metadata": {
        "id": "qAoViAe8rVrq"
      },
      "source": [
        ""
      ],
      "execution_count": null,
      "outputs": []
    }
  ]
}