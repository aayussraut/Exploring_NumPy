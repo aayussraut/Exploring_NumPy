{
  "nbformat": 4,
  "nbformat_minor": 0,
  "metadata": {
    "colab": {
      "name": "NumPy.ipynb",
      "provenance": [],
      "collapsed_sections": [],
      "authorship_tag": "ABX9TyPEaN0IVTcRGQ73KQlBJj1u",
      "include_colab_link": true
    },
    "kernelspec": {
      "name": "python3",
      "display_name": "Python 3"
    },
    "language_info": {
      "name": "python"
    }
  },
  "cells": [
    {
      "cell_type": "markdown",
      "metadata": {
        "id": "view-in-github",
        "colab_type": "text"
      },
      "source": [
        "<a href=\"https://colab.research.google.com/github/aayussraut/Exploring_NumPy/blob/main/NumPy.ipynb\" target=\"_parent\"><img src=\"https://colab.research.google.com/assets/colab-badge.svg\" alt=\"Open In Colab\"/></a>"
      ]
    },
    {
      "cell_type": "code",
      "metadata": {
        "id": "6gSBlHIiW5B5"
      },
      "source": [
        "import numpy as np\n"
      ],
      "execution_count": null,
      "outputs": []
    },
    {
      "cell_type": "code",
      "metadata": {
        "colab": {
          "base_uri": "https://localhost:8080/"
        },
        "id": "u9OASeQ5XCje",
        "outputId": "20a912af-1ae5-4807-915b-64bf0dff904e"
      },
      "source": [
        "x=np.array([[1,2,3],[4,5,6,6]])\n",
        "print(\"x:\\n{}\".format(x))"
      ],
      "execution_count": null,
      "outputs": [
        {
          "output_type": "stream",
          "text": [
            "x:\n",
            "[list([1, 2, 3]) list([4, 5, 6, 6])]\n"
          ],
          "name": "stdout"
        },
        {
          "output_type": "stream",
          "text": [
            "/usr/local/lib/python3.7/dist-packages/ipykernel_launcher.py:1: VisibleDeprecationWarning: Creating an ndarray from ragged nested sequences (which is a list-or-tuple of lists-or-tuples-or ndarrays with different lengths or shapes) is deprecated. If you meant to do this, you must specify 'dtype=object' when creating the ndarray\n",
            "  \"\"\"Entry point for launching an IPython kernel.\n"
          ],
          "name": "stderr"
        }
      ]
    },
    {
      "cell_type": "markdown",
      "metadata": {
        "id": "EOZXZpItUYY4"
      },
      "source": [
        "## **NumPy**\n",
        "- extension package to Python for multi-diensional arrays\n",
        "- closer to hardware\n",
        "- designed for scinetific computation\n",
        "- aslo known as array oriented computing.\n"
      ]
    },
    {
      "cell_type": "markdown",
      "metadata": {
        "id": "1QxgORVkJ_DF"
      },
      "source": [
        "#### **array**\n",
        "- is central data structure of the Numpy library.\n",
        "- the elements in array are of same type"
      ]
    },
    {
      "cell_type": "code",
      "metadata": {
        "id": "3dO1ylmQXGoo"
      },
      "source": [
        "import numpy as np"
      ],
      "execution_count": null,
      "outputs": []
    },
    {
      "cell_type": "code",
      "metadata": {
        "id": "awygQr82KVEL"
      },
      "source": [
        "#example\n",
        "a=np.array([1,2,3,4,5])  # of int type\n",
        "a=np.array([[1,2,3,4],[4,5,6,7]])  #list type"
      ],
      "execution_count": null,
      "outputs": []
    },
    {
      "cell_type": "code",
      "metadata": {
        "colab": {
          "base_uri": "https://localhost:8080/"
        },
        "id": "1QVALumqKphP",
        "outputId": "4f60dc0f-a21a-4461-d62d-b55e22e6a93c"
      },
      "source": [
        "#accessing elements\n",
        "\n",
        "print(a[0])"
      ],
      "execution_count": null,
      "outputs": [
        {
          "output_type": "stream",
          "text": [
            "[1 2 3 4]\n"
          ],
          "name": "stdout"
        }
      ]
    },
    {
      "cell_type": "markdown",
      "metadata": {
        "id": "z4CW2zeCLhh6"
      },
      "source": [
        "##### Attributes of an array\n",
        "\n",
        "- the no of dimensions and items in an array is defined by iys shape\n",
        "- the shape of an array is a tuple of nonnegative intergers that specufy the sized of each dimension.\n",
        "\n",
        "- suppose we have a 2D array that looks like:\n",
        "\n",
        "[[0., 0., 0.],\n",
        "\n",
        " [1., 1., 1.]]\n",
        "\n",
        "- It means our array has 2 axes. THe first axis has a length of 2 and second axis has a length of 3.\n",
        "\n"
      ]
    },
    {
      "cell_type": "markdown",
      "metadata": {
        "id": "xLZOO-afN5V5"
      },
      "source": [
        "#### **Creating a Basic Array**\n",
        "\n",
        "-np.array(), np.zeros(), np.ones(), np.empty(), np.arange(), np.linspace(), dtype"
      ]
    },
    {
      "cell_type": "code",
      "metadata": {
        "id": "ir0hwsu9OH9C"
      },
      "source": [
        "import numpy as np"
      ],
      "execution_count": 2,
      "outputs": []
    },
    {
      "cell_type": "code",
      "metadata": {
        "colab": {
          "base_uri": "https://localhost:8080/"
        },
        "id": "T8mZOm5CNwVg",
        "outputId": "ddfc6e82-84c2-4ba2-e2bd-c5711c61b989"
      },
      "source": [
        "#np.array()\n",
        "# To create a Numpy array\n",
        "a=np.array([1,2,3])\n",
        "a"
      ],
      "execution_count": null,
      "outputs": [
        {
          "output_type": "execute_result",
          "data": {
            "text/plain": [
              "array([1, 2, 3])"
            ]
          },
          "metadata": {
            "tags": []
          },
          "execution_count": 9
        }
      ]
    },
    {
      "cell_type": "code",
      "metadata": {
        "id": "V2H7cFGiOUjb",
        "colab": {
          "base_uri": "https://localhost:8080/"
        },
        "outputId": "1174ec68-11ea-4927-8c1b-1a1d08de9d1a"
      },
      "source": [
        "#np.zeros()\n",
        "# to create an array filled with 0's\n",
        "np.zeros(2)"
      ],
      "execution_count": null,
      "outputs": [
        {
          "output_type": "execute_result",
          "data": {
            "text/plain": [
              "array([0., 0.])"
            ]
          },
          "metadata": {
            "tags": []
          },
          "execution_count": 10
        }
      ]
    },
    {
      "cell_type": "code",
      "metadata": {
        "id": "1D050FQKOf9V",
        "colab": {
          "base_uri": "https://localhost:8080/"
        },
        "outputId": "76915f4b-eefe-47e7-bbde-a1d33faeba95"
      },
      "source": [
        "#np.ones()\n",
        "# to cerate an array filled with 1's\n",
        "np.ones(1)"
      ],
      "execution_count": null,
      "outputs": [
        {
          "output_type": "execute_result",
          "data": {
            "text/plain": [
              "array([1.])"
            ]
          },
          "metadata": {
            "tags": []
          },
          "execution_count": 11
        }
      ]
    },
    {
      "cell_type": "code",
      "metadata": {
        "id": "VGe2kkbBPCwZ",
        "colab": {
          "base_uri": "https://localhost:8080/"
        },
        "outputId": "ffed89e3-4917-4bb9-8440-2263168d354c"
      },
      "source": [
        "#np.zeros\n",
        "\n",
        "# creates an array whose initial content is random and depends on the state of the memory\n",
        "# the reasons ti use empty over zeros is speed\n",
        "\n",
        "np.empty(2)"
      ],
      "execution_count": null,
      "outputs": [
        {
          "output_type": "execute_result",
          "data": {
            "text/plain": [
              "array([0., 0.])"
            ]
          },
          "metadata": {
            "tags": []
          },
          "execution_count": 12
        }
      ]
    },
    {
      "cell_type": "code",
      "metadata": {
        "id": "JOgfcPlUPXiZ",
        "colab": {
          "base_uri": "https://localhost:8080/"
        },
        "outputId": "d33bf025-6219-474a-b362-edecde13487c"
      },
      "source": [
        "#np.arange()\n",
        "\n",
        "# to create an array with a range of elements\n",
        "\n",
        "np.arange(4)\n"
      ],
      "execution_count": null,
      "outputs": [
        {
          "output_type": "execute_result",
          "data": {
            "text/plain": [
              "array([0, 1, 2, 3])"
            ]
          },
          "metadata": {
            "tags": []
          },
          "execution_count": 13
        }
      ]
    },
    {
      "cell_type": "code",
      "metadata": {
        "id": "j2lW8Fl_PmAI",
        "colab": {
          "base_uri": "https://localhost:8080/"
        },
        "outputId": "f23121e2-08b6-4a04-91c6-0911318cd866"
      },
      "source": [
        "# to create an array that contains a range of evenly spaced intervals.\n",
        "\n",
        "np.arange(2,9,2)\n"
      ],
      "execution_count": null,
      "outputs": [
        {
          "output_type": "execute_result",
          "data": {
            "text/plain": [
              "array([2, 4, 6, 8])"
            ]
          },
          "metadata": {
            "tags": []
          },
          "execution_count": 14
        }
      ]
    },
    {
      "cell_type": "code",
      "metadata": {
        "id": "HHSX-0hQPyOB"
      },
      "source": [
        "#np.linspace()\n",
        "\n",
        "# to create an array with values that are spaced linearly in specified interval\n",
        "\n",
        "np.linspace(0,10,num=5)\n",
        "\n",
        "# num= 5 means .. 5 no. between 0 and 10"
      ],
      "execution_count": null,
      "outputs": []
    },
    {
      "cell_type": "code",
      "metadata": {
        "id": "9BKYGWf6QFyZ",
        "colab": {
          "base_uri": "https://localhost:8080/"
        },
        "outputId": "7a63a14a-7177-4da7-a659-756c7a3a7296"
      },
      "source": [
        "np.linspace(0,10,num=5 ,endpoint=False)\n",
        "# returns 5 no between 0 and 10 where 10 is excluded."
      ],
      "execution_count": null,
      "outputs": [
        {
          "output_type": "execute_result",
          "data": {
            "text/plain": [
              "array([0., 2., 4., 6., 8.])"
            ]
          },
          "metadata": {
            "tags": []
          },
          "execution_count": 15
        }
      ]
    },
    {
      "cell_type": "code",
      "metadata": {
        "colab": {
          "base_uri": "https://localhost:8080/"
        },
        "id": "nOIn_DSdQ3c_",
        "outputId": "bb8508a5-35d7-4a1f-90d5-51c52c4ef0c1"
      },
      "source": [
        "#dtype\n",
        "\n",
        "#specifying data type\n",
        "\n",
        "np.ones(2,dtype=np.int64)"
      ],
      "execution_count": null,
      "outputs": [
        {
          "output_type": "execute_result",
          "data": {
            "text/plain": [
              "array([1, 1])"
            ]
          },
          "metadata": {
            "tags": []
          },
          "execution_count": 16
        }
      ]
    },
    {
      "cell_type": "markdown",
      "metadata": {
        "id": "xk6u2vDxWWaK"
      },
      "source": [
        "#### Adding, removing and sorting elements\n",
        "\n",
        "- np.sort(),np.concatenate()"
      ]
    },
    {
      "cell_type": "code",
      "metadata": {
        "id": "PiDZOYKVRNXO",
        "colab": {
          "base_uri": "https://localhost:8080/"
        },
        "outputId": "f30d31cb-956c-4eec-924b-88a8aa0ededa"
      },
      "source": [
        "#np.sort()\n",
        "\n",
        "arr=np.array([2,1,5,3,7,4,6,8])\n",
        "np.sort(arr)"
      ],
      "execution_count": 3,
      "outputs": [
        {
          "output_type": "execute_result",
          "data": {
            "text/plain": [
              "array([1, 2, 3, 4, 5, 6, 7, 8])"
            ]
          },
          "metadata": {
            "tags": []
          },
          "execution_count": 3
        }
      ]
    },
    {
      "cell_type": "code",
      "metadata": {
        "colab": {
          "base_uri": "https://localhost:8080/"
        },
        "id": "28UBXgaQWohs",
        "outputId": "b05e8e65-d435-4453-f98c-7a5e0ddb1200"
      },
      "source": [
        "#np.partition \n",
        "\n",
        "# -rearranges the elements of kth position(i.e. 3 in example) such a way that All elements smaller than the k-th element are moved before this element and all equal or greater are moved behind it. \n",
        "a=np.array([4,2,8,6,10])\n",
        "np.partition(a,3)"
      ],
      "execution_count": 6,
      "outputs": [
        {
          "output_type": "execute_result",
          "data": {
            "text/plain": [
              "array([ 6,  4,  2,  8, 10])"
            ]
          },
          "metadata": {
            "tags": []
          },
          "execution_count": 6
        }
      ]
    },
    {
      "cell_type": "code",
      "metadata": {
        "colab": {
          "base_uri": "https://localhost:8080/"
        },
        "id": "ZgHU1Mn7Xexs",
        "outputId": "b9b077cd-1b72-41a0-b1eb-248b45e7fcba"
      },
      "source": [
        "#np.concatenate()\n",
        "\n",
        "a=np.array([1,2,3,4])\n",
        "b=np.array([5,6,7,8])\n",
        "\n",
        "np.concatenate((a,b))"
      ],
      "execution_count": 8,
      "outputs": [
        {
          "output_type": "execute_result",
          "data": {
            "text/plain": [
              "array([1, 2, 3, 4, 5, 6, 7, 8])"
            ]
          },
          "metadata": {
            "tags": []
          },
          "execution_count": 8
        }
      ]
    },
    {
      "cell_type": "markdown",
      "metadata": {
        "id": "ikR6GD_uaf8G"
      },
      "source": [
        "### **Shape and size of array**\n",
        "- ndarray.ndim : tell us the number of axes,or dimensions, of the array\n",
        "\n",
        "- ndarray.size : tell us the total number of elements of the array's shape\n",
        "\n",
        "- ndarray.shape : will display a tuple of integers that indiacate the number of elements stored along each dimension of the array."
      ]
    },
    {
      "cell_type": "code",
      "metadata": {
        "id": "HcoqeO7WZNXx"
      },
      "source": [
        "array_example =np.array([[[0,1,2,3],\n",
        "                          [4,5,6,7]],\n",
        "                         [[0,1,2,3],\n",
        "                          [4,5,6,7]],\n",
        "                         [[0,1,2,3],\n",
        "                          [4,5,6,7]]])\n"
      ],
      "execution_count": 9,
      "outputs": []
    },
    {
      "cell_type": "code",
      "metadata": {
        "colab": {
          "base_uri": "https://localhost:8080/"
        },
        "id": "nZ2CubxMbrUz",
        "outputId": "fc01ac28-ca28-4cfd-ea83-00ac59e71c39"
      },
      "source": [
        "array_example.ndim"
      ],
      "execution_count": 10,
      "outputs": [
        {
          "output_type": "execute_result",
          "data": {
            "text/plain": [
              "3"
            ]
          },
          "metadata": {
            "tags": []
          },
          "execution_count": 10
        }
      ]
    },
    {
      "cell_type": "code",
      "metadata": {
        "colab": {
          "base_uri": "https://localhost:8080/"
        },
        "id": "MIRgm0ycbtwc",
        "outputId": "c87e2f15-0bc6-4217-9b6a-e9179307912e"
      },
      "source": [
        "array_example.size"
      ],
      "execution_count": 11,
      "outputs": [
        {
          "output_type": "execute_result",
          "data": {
            "text/plain": [
              "24"
            ]
          },
          "metadata": {
            "tags": []
          },
          "execution_count": 11
        }
      ]
    },
    {
      "cell_type": "code",
      "metadata": {
        "colab": {
          "base_uri": "https://localhost:8080/"
        },
        "id": "Peg322FUbx5G",
        "outputId": "14a46232-bad4-4de1-e7ac-164bf31d3ba5"
      },
      "source": [
        "array_example.shape"
      ],
      "execution_count": 12,
      "outputs": [
        {
          "output_type": "execute_result",
          "data": {
            "text/plain": [
              "(3, 2, 4)"
            ]
          },
          "metadata": {
            "tags": []
          },
          "execution_count": 12
        }
      ]
    },
    {
      "cell_type": "markdown",
      "metadata": {
        "id": "J3oWVMMlcMdn"
      },
      "source": [
        "#### **Reshape an array**\n",
        "\n",
        "- arr.reshape() : will give a new shape to an array with out changing the data."
      ]
    },
    {
      "cell_type": "code",
      "metadata": {
        "colab": {
          "base_uri": "https://localhost:8080/"
        },
        "id": "iEHl-QRObzoH",
        "outputId": "c79260a8-8add-4998-e7ac-66c9266b9415"
      },
      "source": [
        "#arr.reshape\n",
        "\n",
        "a=np.arange(6)\n",
        "print(a)\n",
        "\n",
        "b=a.reshape(3,2) #reshaped to 3*2 matrix\n",
        "print(b) "
      ],
      "execution_count": 14,
      "outputs": [
        {
          "output_type": "stream",
          "text": [
            "[0 1 2 3 4 5]\n",
            "[[0 1]\n",
            " [2 3]\n",
            " [4 5]]\n"
          ],
          "name": "stdout"
        }
      ]
    },
    {
      "cell_type": "code",
      "metadata": {
        "colab": {
          "base_uri": "https://localhost:8080/"
        },
        "id": "JhbRVtlhciuY",
        "outputId": "b4657d3f-3889-4a6c-f531-bd5572ada361"
      },
      "source": [
        "np.reshape(a,newshape=(1,6), order='C')\n",
        "\n",
        "#newshape =shape we want\n",
        "# a = array to be reshaped\n",
        "\n",
        "# order = C meands to read/write the elements using C like Index, F meands using Foratan_like index order and A means to read/write the elements in Fortran-like index order if a is Fortran contiguous in memory, C-like order otherwise."
      ],
      "execution_count": 15,
      "outputs": [
        {
          "output_type": "execute_result",
          "data": {
            "text/plain": [
              "array([[0, 1, 2, 3, 4, 5]])"
            ]
          },
          "metadata": {
            "tags": []
          },
          "execution_count": 15
        }
      ]
    },
    {
      "cell_type": "markdown",
      "metadata": {
        "id": "I1jx0sDEenGh"
      },
      "source": [
        "### **Converting 1D array into a 2D array**\n",
        "\n",
        "- np.newaxis() : will increase the dimensions of array by ome dimension when used once.\n",
        "- np.expand_dims(): \n",
        "\n"
      ]
    },
    {
      "cell_type": "code",
      "metadata": {
        "colab": {
          "base_uri": "https://localhost:8080/"
        },
        "id": "3imNZEdWeHgk",
        "outputId": "d0334d67-d845-49ae-e382-82eff9976847"
      },
      "source": [
        "#np.newaxis()\n",
        "\n",
        "a= np.array([1,2,3,4,5])\n",
        "a.shape"
      ],
      "execution_count": 19,
      "outputs": [
        {
          "output_type": "execute_result",
          "data": {
            "text/plain": [
              "(5,)"
            ]
          },
          "metadata": {
            "tags": []
          },
          "execution_count": 19
        }
      ]
    },
    {
      "cell_type": "code",
      "metadata": {
        "colab": {
          "base_uri": "https://localhost:8080/"
        },
        "id": "SOzVvZqffRi6",
        "outputId": "266af16c-4814-46a9-cb7f-3ba8cee61341"
      },
      "source": [
        "a2=a[np.newaxis,:]\n",
        "a2.shape"
      ],
      "execution_count": 21,
      "outputs": [
        {
          "output_type": "execute_result",
          "data": {
            "text/plain": [
              "(1, 5)"
            ]
          },
          "metadata": {
            "tags": []
          },
          "execution_count": 21
        }
      ]
    },
    {
      "cell_type": "code",
      "metadata": {
        "colab": {
          "base_uri": "https://localhost:8080/"
        },
        "id": "gMPM1LHJfZ51",
        "outputId": "f96994c7-e8cd-4c9d-9d04-3b403b0d3dc0"
      },
      "source": [
        "row_vector=a[np.newaxis,:]\n",
        "row_vector.shape"
      ],
      "execution_count": 22,
      "outputs": [
        {
          "output_type": "execute_result",
          "data": {
            "text/plain": [
              "(1, 5)"
            ]
          },
          "metadata": {
            "tags": []
          },
          "execution_count": 22
        }
      ]
    },
    {
      "cell_type": "code",
      "metadata": {
        "colab": {
          "base_uri": "https://localhost:8080/"
        },
        "id": "5gBaLEFffpzj",
        "outputId": "ac794e2d-4019-4014-d0b6-0003ba0bd9ea"
      },
      "source": [
        "column_vector=a[:,np.newaxis]\n",
        "column_vector.shape"
      ],
      "execution_count": 23,
      "outputs": [
        {
          "output_type": "execute_result",
          "data": {
            "text/plain": [
              "(5, 1)"
            ]
          },
          "metadata": {
            "tags": []
          },
          "execution_count": 23
        }
      ]
    },
    {
      "cell_type": "code",
      "metadata": {
        "colab": {
          "base_uri": "https://localhost:8080/"
        },
        "id": "oKFcgcqofwge",
        "outputId": "84a58f41-db9a-46c0-f2b4-ec87e6e58063"
      },
      "source": [
        "#np.expand_dims\n",
        "\n",
        "b=np.expand_dims(a,axis=1)\n",
        "b.shape"
      ],
      "execution_count": 25,
      "outputs": [
        {
          "output_type": "execute_result",
          "data": {
            "text/plain": [
              "(5, 1)"
            ]
          },
          "metadata": {
            "tags": []
          },
          "execution_count": 25
        }
      ]
    },
    {
      "cell_type": "code",
      "metadata": {
        "colab": {
          "base_uri": "https://localhost:8080/"
        },
        "id": "_k_XmYgQf7-U",
        "outputId": "74233e04-262f-4e8b-cfe2-3ff690c05f7f"
      },
      "source": [
        "b=np.expand_dims(a,axis=0)\n",
        "b.shape"
      ],
      "execution_count": 26,
      "outputs": [
        {
          "output_type": "execute_result",
          "data": {
            "text/plain": [
              "(1, 5)"
            ]
          },
          "metadata": {
            "tags": []
          },
          "execution_count": 26
        }
      ]
    },
    {
      "cell_type": "markdown",
      "metadata": {
        "id": "Hv-RWrlCgJWX"
      },
      "source": [
        "#### **Indexing and Slicing**"
      ]
    },
    {
      "cell_type": "code",
      "metadata": {
        "id": "VPAaGISxgCuW"
      },
      "source": [
        "### Indexing and Slicing"
      ],
      "execution_count": null,
      "outputs": []
    }
  ]
}